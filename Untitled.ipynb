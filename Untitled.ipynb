{
 "cells": [
  {
   "cell_type": "code",
   "execution_count": 112,
   "id": "cef7bb7b",
   "metadata": {},
   "outputs": [],
   "source": [
    "import pandas as pd\n",
    "import numpy as np\n",
    "import matplotlib.pyplot as plt\n",
    "import seaborn as sns"
   ]
  },
  {
   "cell_type": "code",
   "execution_count": 67,
   "id": "d8102587",
   "metadata": {},
   "outputs": [
    {
     "name": "stdout",
     "output_type": "stream",
     "text": [
      "Index(['_ID', ' TimeSt', 'Country', 'Province', 'City', 'Latitude',\n",
      "       'Longitude'],\n",
      "      dtype='object')\n",
      "       _ID                  TimeSt Country Province       City  Latitude  \\\n",
      "0  4516516 2017-06-21 00:00:00.143      CA       ON   Waterloo  43.49347   \n",
      "1  4516547 2017-06-21 18:00:00.193      CA       ON     London  42.93990   \n",
      "2  4516550 2017-06-21 15:00:00.287      CA       ON     Guelph  43.57760   \n",
      "3  4516600 2017-06-21 15:00:00.307      CA       ON  Stratford  43.37160   \n",
      "4  4516613 2017-06-21 15:00:00.497      CA       ON  Stratford  43.37160   \n",
      "\n",
      "   Longitude  \n",
      "0  -80.49123  \n",
      "1  -81.27090  \n",
      "2  -80.22010  \n",
      "3  -80.97730  \n",
      "4  -80.97730  \n"
     ]
    }
   ],
   "source": [
    "url = 'https://raw.githubusercontent.com/EQWorks/ws-data-pandas/main/data/DataSample.csv'\n",
    "df = pd.read_csv(url)\n",
    "print(df.columns)\n",
    "df[' TimeSt'] = pd.to_datetime(df[' TimeSt'])\n",
    "print(df.head(5))"
   ]
  },
  {
   "cell_type": "code",
   "execution_count": 52,
   "id": "4c8f741d",
   "metadata": {},
   "outputs": [
    {
     "name": "stdout",
     "output_type": "stream",
     "text": [
      "(17973, 7)\n"
     ]
    }
   ],
   "source": [
    "df = df.drop_duplicates(subset=[\" TimeSt\", \"Latitude\", \"Longitude\"], keep=False)\n",
    "print(df.shape)"
   ]
  },
  {
   "cell_type": "code",
   "execution_count": 53,
   "id": "c973351f",
   "metadata": {},
   "outputs": [
    {
     "name": "stdout",
     "output_type": "stream",
     "text": [
      "  POIID   Latitude   Longitude\n",
      "0  POI1  53.546167 -113.485734\n",
      "1  POI2  53.546167 -113.485734\n",
      "2  POI3  45.521629  -73.566024\n",
      "3  POI4  45.224830  -63.232729\n"
     ]
    }
   ],
   "source": [
    "poi_data = {'POIID': ['POI1', 'POI2', 'POI3', 'POI4'], \n",
    "            'Latitude': [53.546167, 53.546167, 45.521629, 45.224830],\n",
    "            'Longitude': [-113.485734,  -113.485734, -73.566024, -63.232729]}\n",
    "poi = pd.DataFrame(poi_data)\n",
    "print(poi)"
   ]
  },
  {
   "cell_type": "code",
   "execution_count": 81,
   "id": "3f3a09f2",
   "metadata": {},
   "outputs": [],
   "source": [
    "poi1 = []\n",
    "poi2 = []\n",
    "poi3 = []\n",
    "poi4 = []\n",
    "#I know that there is a faster way to implement this part but I couldn't find it! \n",
    "for i in range(len(df)):\n",
    "    poi1.append(np.linalg.norm(df.iloc[i, 5:7]-poi.iloc[0, 1:3]))\n",
    "    poi2.append(np.linalg.norm(df.iloc[i, 5:7]-poi.iloc[1, 1:3]))\n",
    "    poi3.append(np.linalg.norm(df.iloc[i, 5:7]-poi.iloc[2, 1:3]))\n",
    "    poi4.append(np.linalg.norm(df.iloc[i, 5:7]-poi.iloc[3, 1:3]))"
   ]
  },
  {
   "cell_type": "code",
   "execution_count": 105,
   "id": "f9104cf7",
   "metadata": {},
   "outputs": [
    {
     "data": {
      "text/html": [
       "<div>\n",
       "<style scoped>\n",
       "    .dataframe tbody tr th:only-of-type {\n",
       "        vertical-align: middle;\n",
       "    }\n",
       "\n",
       "    .dataframe tbody tr th {\n",
       "        vertical-align: top;\n",
       "    }\n",
       "\n",
       "    .dataframe thead th {\n",
       "        text-align: right;\n",
       "    }\n",
       "</style>\n",
       "<table border=\"1\" class=\"dataframe\">\n",
       "  <thead>\n",
       "    <tr style=\"text-align: right;\">\n",
       "      <th></th>\n",
       "      <th>_ID</th>\n",
       "      <th>TimeSt</th>\n",
       "      <th>Country</th>\n",
       "      <th>Province</th>\n",
       "      <th>City</th>\n",
       "      <th>Latitude</th>\n",
       "      <th>Longitude</th>\n",
       "      <th>POI1</th>\n",
       "      <th>POI2</th>\n",
       "      <th>POI3</th>\n",
       "      <th>POI4</th>\n",
       "      <th>Best_POI</th>\n",
       "    </tr>\n",
       "  </thead>\n",
       "  <tbody>\n",
       "    <tr>\n",
       "      <th>0</th>\n",
       "      <td>4516516</td>\n",
       "      <td>2017-06-21 00:00:00.143</td>\n",
       "      <td>CA</td>\n",
       "      <td>ON</td>\n",
       "      <td>Waterloo</td>\n",
       "      <td>43.49347</td>\n",
       "      <td>-80.49123</td>\n",
       "      <td>34.491941</td>\n",
       "      <td>34.491941</td>\n",
       "      <td>7.216087</td>\n",
       "      <td>17.345128</td>\n",
       "      <td>POI3</td>\n",
       "    </tr>\n",
       "    <tr>\n",
       "      <th>1</th>\n",
       "      <td>4516547</td>\n",
       "      <td>2017-06-21 18:00:00.193</td>\n",
       "      <td>CA</td>\n",
       "      <td>ON</td>\n",
       "      <td>London</td>\n",
       "      <td>42.93990</td>\n",
       "      <td>-81.27090</td>\n",
       "      <td>33.915902</td>\n",
       "      <td>33.915902</td>\n",
       "      <td>8.125912</td>\n",
       "      <td>18.182313</td>\n",
       "      <td>POI3</td>\n",
       "    </tr>\n",
       "    <tr>\n",
       "      <th>2</th>\n",
       "      <td>4516550</td>\n",
       "      <td>2017-06-21 15:00:00.287</td>\n",
       "      <td>CA</td>\n",
       "      <td>ON</td>\n",
       "      <td>Guelph</td>\n",
       "      <td>43.57760</td>\n",
       "      <td>-80.22010</td>\n",
       "      <td>34.727147</td>\n",
       "      <td>34.727147</td>\n",
       "      <td>6.932242</td>\n",
       "      <td>17.067048</td>\n",
       "      <td>POI3</td>\n",
       "    </tr>\n",
       "    <tr>\n",
       "      <th>3</th>\n",
       "      <td>4516600</td>\n",
       "      <td>2017-06-21 15:00:00.307</td>\n",
       "      <td>CA</td>\n",
       "      <td>ON</td>\n",
       "      <td>Stratford</td>\n",
       "      <td>43.37160</td>\n",
       "      <td>-80.97730</td>\n",
       "      <td>34.063472</td>\n",
       "      <td>34.063472</td>\n",
       "      <td>7.716841</td>\n",
       "      <td>17.841084</td>\n",
       "      <td>POI3</td>\n",
       "    </tr>\n",
       "    <tr>\n",
       "      <th>4</th>\n",
       "      <td>4516613</td>\n",
       "      <td>2017-06-21 15:00:00.497</td>\n",
       "      <td>CA</td>\n",
       "      <td>ON</td>\n",
       "      <td>Stratford</td>\n",
       "      <td>43.37160</td>\n",
       "      <td>-80.97730</td>\n",
       "      <td>34.063472</td>\n",
       "      <td>34.063472</td>\n",
       "      <td>7.716841</td>\n",
       "      <td>17.841084</td>\n",
       "      <td>POI3</td>\n",
       "    </tr>\n",
       "    <tr>\n",
       "      <th>5</th>\n",
       "      <td>4516693</td>\n",
       "      <td>2017-06-21 14:00:00.597</td>\n",
       "      <td>CA</td>\n",
       "      <td>ON</td>\n",
       "      <td>Kitchener</td>\n",
       "      <td>43.43810</td>\n",
       "      <td>-80.50990</td>\n",
       "      <td>34.490269</td>\n",
       "      <td>34.490269</td>\n",
       "      <td>7.249725</td>\n",
       "      <td>17.369313</td>\n",
       "      <td>POI3</td>\n",
       "    </tr>\n",
       "    <tr>\n",
       "      <th>6</th>\n",
       "      <td>4516771</td>\n",
       "      <td>2017-06-21 10:00:00.873</td>\n",
       "      <td>CA</td>\n",
       "      <td>ON</td>\n",
       "      <td>Sarnia</td>\n",
       "      <td>42.96100</td>\n",
       "      <td>-82.37300</td>\n",
       "      <td>32.864083</td>\n",
       "      <td>32.864083</td>\n",
       "      <td>9.171676</td>\n",
       "      <td>19.273684</td>\n",
       "      <td>POI3</td>\n",
       "    </tr>\n",
       "    <tr>\n",
       "      <th>7</th>\n",
       "      <td>4516831</td>\n",
       "      <td>2017-06-21 12:00:00.950</td>\n",
       "      <td>CA</td>\n",
       "      <td>ON</td>\n",
       "      <td>London</td>\n",
       "      <td>43.00910</td>\n",
       "      <td>-81.17650</td>\n",
       "      <td>33.984061</td>\n",
       "      <td>33.984061</td>\n",
       "      <td>8.014496</td>\n",
       "      <td>18.080055</td>\n",
       "      <td>POI3</td>\n",
       "    </tr>\n",
       "    <tr>\n",
       "      <th>8</th>\n",
       "      <td>4516915</td>\n",
       "      <td>2017-06-21 15:00:01.310</td>\n",
       "      <td>CA</td>\n",
       "      <td>ON</td>\n",
       "      <td>London</td>\n",
       "      <td>43.00910</td>\n",
       "      <td>-81.17650</td>\n",
       "      <td>33.984061</td>\n",
       "      <td>33.984061</td>\n",
       "      <td>8.014496</td>\n",
       "      <td>18.080055</td>\n",
       "      <td>POI3</td>\n",
       "    </tr>\n",
       "    <tr>\n",
       "      <th>9</th>\n",
       "      <td>4516953</td>\n",
       "      <td>2017-06-21 16:00:01.700</td>\n",
       "      <td>CA</td>\n",
       "      <td>ON</td>\n",
       "      <td>Kitchener</td>\n",
       "      <td>43.42780</td>\n",
       "      <td>-80.51350</td>\n",
       "      <td>34.489847</td>\n",
       "      <td>34.489847</td>\n",
       "      <td>7.256138</td>\n",
       "      <td>17.373956</td>\n",
       "      <td>POI3</td>\n",
       "    </tr>\n",
       "  </tbody>\n",
       "</table>\n",
       "</div>"
      ],
      "text/plain": [
       "       _ID                  TimeSt Country Province       City  Latitude  \\\n",
       "0  4516516 2017-06-21 00:00:00.143      CA       ON   Waterloo  43.49347   \n",
       "1  4516547 2017-06-21 18:00:00.193      CA       ON     London  42.93990   \n",
       "2  4516550 2017-06-21 15:00:00.287      CA       ON     Guelph  43.57760   \n",
       "3  4516600 2017-06-21 15:00:00.307      CA       ON  Stratford  43.37160   \n",
       "4  4516613 2017-06-21 15:00:00.497      CA       ON  Stratford  43.37160   \n",
       "5  4516693 2017-06-21 14:00:00.597      CA       ON  Kitchener  43.43810   \n",
       "6  4516771 2017-06-21 10:00:00.873      CA       ON     Sarnia  42.96100   \n",
       "7  4516831 2017-06-21 12:00:00.950      CA       ON     London  43.00910   \n",
       "8  4516915 2017-06-21 15:00:01.310      CA       ON     London  43.00910   \n",
       "9  4516953 2017-06-21 16:00:01.700      CA       ON  Kitchener  43.42780   \n",
       "\n",
       "   Longitude       POI1       POI2      POI3       POI4 Best_POI  \n",
       "0  -80.49123  34.491941  34.491941  7.216087  17.345128     POI3  \n",
       "1  -81.27090  33.915902  33.915902  8.125912  18.182313     POI3  \n",
       "2  -80.22010  34.727147  34.727147  6.932242  17.067048     POI3  \n",
       "3  -80.97730  34.063472  34.063472  7.716841  17.841084     POI3  \n",
       "4  -80.97730  34.063472  34.063472  7.716841  17.841084     POI3  \n",
       "5  -80.50990  34.490269  34.490269  7.249725  17.369313     POI3  \n",
       "6  -82.37300  32.864083  32.864083  9.171676  19.273684     POI3  \n",
       "7  -81.17650  33.984061  33.984061  8.014496  18.080055     POI3  \n",
       "8  -81.17650  33.984061  33.984061  8.014496  18.080055     POI3  \n",
       "9  -80.51350  34.489847  34.489847  7.256138  17.373956     POI3  "
      ]
     },
     "execution_count": 105,
     "metadata": {},
     "output_type": "execute_result"
    }
   ],
   "source": [
    "df['POI1'] = poi1\n",
    "df['POI2'] = poi2\n",
    "df['POI3'] = poi3\n",
    "df['POI4'] = poi4\n",
    "df['Best_POI'] = df[['POI1', 'POI2', 'POI3', 'POI4']].idxmin(axis=1)\n",
    "df.head(10)"
   ]
  },
  {
   "cell_type": "code",
   "execution_count": 114,
   "id": "fa7ed7a2",
   "metadata": {},
   "outputs": [
    {
     "name": "stdout",
     "output_type": "stream",
     "text": [
      "Means:\n",
      "3.3441530696924375\n",
      "nan\n",
      "5.537976683151539\n",
      "9.037739864674943\n",
      "STDs:\n",
      "3.8657053637378387\n",
      "nan\n",
      "2.8586724794620757\n",
      "29.688017608854157\n"
     ]
    }
   ],
   "source": [
    "print('Means:')\n",
    "print(df.loc[df['Best_POI'] == 'POI1', 'POI1'].mean())\n",
    "print(df.loc[df['Best_POI'] == 'POI2', 'POI2'].mean())\n",
    "print(df.loc[df['Best_POI'] == 'POI3', 'POI3'].mean())\n",
    "print(df.loc[df['Best_POI'] == 'POI4', 'POI4'].mean())\n",
    "print('STDs:')\n",
    "print(df.loc[df['Best_POI'] == 'POI1', 'POI1'].std())\n",
    "print(df.loc[df['Best_POI'] == 'POI2', 'POI2'].std())\n",
    "print(df.loc[df['Best_POI'] == 'POI3', 'POI3'].std())\n",
    "print(df.loc[df['Best_POI'] == 'POI4', 'POI4'].std())"
   ]
  },
  {
   "cell_type": "code",
   "execution_count": 115,
   "id": "b432252a",
   "metadata": {},
   "outputs": [
    {
     "name": "stdout",
     "output_type": "stream",
     "text": [
      "Densities:\n",
      "10671\n",
      "0\n",
      "10813\n",
      "541\n"
     ]
    }
   ],
   "source": [
    "print('Densities:')\n",
    "print(len(df[df['Best_POI'] == 'POI1']))\n",
    "print(len(df[df['Best_POI'] == 'POI2']))\n",
    "print(len(df[df['Best_POI'] == 'POI3']))\n",
    "print(len(df[df['Best_POI'] == 'POI4']))"
   ]
  },
  {
   "cell_type": "code",
   "execution_count": 177,
   "id": "b7c25bc0",
   "metadata": {},
   "outputs": [
    {
     "name": "stdout",
     "output_type": "stream",
     "text": [
      "24.851937229893878\n"
     ]
    }
   ],
   "source": [
    "poi1_radious = df.loc[df['Best_POI'] == 'POI1', 'POI1'].max()\n",
    "#poi2_radious = df.loc[df['Best_POI'] == 'POI2', 'POI2'].max()\n",
    "poi3_radious = df.loc[df['Best_POI'] == 'POI3', 'POI3'].max()\n",
    "poi4_radious = df.loc[df['Best_POI'] == 'POI4', 'POI4'].max()"
   ]
  },
  {
   "cell_type": "code",
   "execution_count": 196,
   "id": "62b33bfd",
   "metadata": {
    "scrolled": true
   },
   "outputs": [
    {
     "data": {
      "image/png": "[encoded data removed]",
      "text/plain": [
       "<Figure size 432x288 with 1 Axes>"
      ]
     },
     "metadata": {
      "needs_background": "light"
     },
     "output_type": "display_data"
    }
   ],
   "source": [
    "plt.axis([-250, 250, -250, 250])\n",
    "\n",
    "array = df[\"Best_POI\"].replace({\"POI1\": 0, \"POI2\": 1, \"POI3\": 2, \"POI4\": 3}, inplace=False)\n",
    "facet = plt.scatter(df.loc[:, 'Latitude'], df.loc[:, 'Longitude'], c=array)\n",
    "\n",
    "\n",
    "circle1 = plt.Circle((poi.loc[0, 'Latitude'], poi.loc[0, 'Longitude']), poi1_radious, color=\"r\")\n",
    "circle3 = plt.Circle((poi.loc[2, 'Latitude'], poi.loc[2, 'Longitude']), poi3_radious, color=\"b\")\n",
    "circle4 = plt.Circle((poi.loc[3, 'Latitude'], poi.loc[3, 'Longitude']), poi4_radious, color=\"g\")\n",
    "\n",
    "plt.gca().add_artist(circle4)\n",
    "plt.gca().add_artist(circle1)\n",
    "plt.gca().add_artist(circle3)\n",
    "plt.gca().add_artist(facet)\n",
    "\n",
    "plt.show()"
   ]
  },
  {
   "cell_type": "code",
   "execution_count": null,
   "id": "65864c45",
   "metadata": {},
   "outputs": [],
   "source": []
  },
  {
   "cell_type": "code",
   "execution_count": null,
   "id": "13dfa9c6",
   "metadata": {},
   "outputs": [],
   "source": []
  }
 ],
 "metadata": {
  "kernelspec": {
   "display_name": "Python 3 (ipykernel)",
   "language": "python",
   "name": "python3"
  },
  "language_info": {
   "codemirror_mode": {
    "name": "ipython",
    "version": 3
   },
   "file_extension": ".py",
   "mimetype": "text/x-python",
   "name": "python",
   "nbconvert_exporter": "python",
   "pygments_lexer": "ipython3",
   "version": "3.9.10"
  }
 },
 "nbformat": 4,
 "nbformat_minor": 5
}
